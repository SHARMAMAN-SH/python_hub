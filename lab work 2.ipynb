{
 "cells": [
  {
   "cell_type": "code",
   "execution_count": 2,
   "metadata": {},
   "outputs": [
    {
     "name": "stdout",
     "output_type": "stream",
     "text": [
      "Hot Days:\n",
      "Day\tTemperature (°C)\n",
      "3\t36.8\n",
      "6\t38.7\n",
      "10\t37.2\n",
      "\n",
      "Cold Days:\n",
      "Day\tTemperature (°C)\n"
     ]
    }
   ],
   "source": [
    "\n",
    "import numpy as np\n",
    "\n",
    "# Input temperatures array\n",
    "temperatures = np.array([32.5, 34.2, 36.8, 29.3, 31.0, 38.7, 23.1, 18.5, 22.8, 37.2])\n",
    "\n",
    "# Define temperature thresholds\n",
    "hot_threshold = 35\n",
    "cold_threshold = 5\n",
    "\n",
    "# Find hot days\n",
    "hot_days_indices = np.where(temperatures > hot_threshold)[0]\n",
    "hot_days_temperatures = temperatures[hot_days_indices]\n",
    "\n",
    "# Find cold days (for illustration purposes, assuming cold days are in a separate array for demonstration)\n",
    "cold_days_indices = np.where(temperatures < cold_threshold)[0]\n",
    "cold_days_temperatures = temperatures[cold_days_indices]\n",
    "\n",
    "# Output the results\n",
    "print(\"Hot Days:\")\n",
    "print(\"Day\\tTemperature (°C)\")\n",
    "for index in hot_days_indices:\n",
    "    print(f\"{index + 1}\\t{temperatures[index]}\")\n",
    "\n",
    "print(\"\\nCold Days:\")\n",
    "print(\"Day\\tTemperature (°C)\")\n",
    "for index in cold_days_indices:\n",
    "    print(f\"{index + 1}\\t{temperatures[index]}\")\n"
   ]
  },
  {
   "cell_type": "code",
   "execution_count": 4,
   "metadata": {},
   "outputs": [
    {
     "name": "stdout",
     "output_type": "stream",
     "text": [
      "Quarter 1 Sales (in thousands of dollars): [120 135 145]\n",
      "Quarter 2 Sales (in thousands of dollars): [165 180 155]\n",
      "Quarter 3 Sales (in thousands of dollars): [168 190 205]\n",
      "Quarter 4 Sales (in thousands of dollars): [198 210 225]\n"
     ]
    }
   ],
   "source": [
    "\n",
    "import numpy as np\n",
    "\n",
    "# Input monthly sales array\n",
    "monthly_sales = np.array([120, 135, 145, 165, 180, 155, 168, 190, 205, 198, 210, 225])\n",
    "\n",
    "# Split the data into quarters\n",
    "quarter_1 = monthly_sales[0:3]\n",
    "quarter_2 = monthly_sales[3:6]\n",
    "quarter_3 = monthly_sales[6:9]\n",
    "quarter_4 = monthly_sales[9:12]\n",
    "\n",
    "# Output the results\n",
    "print(\"Quarter 1 Sales (in thousands of dollars):\", quarter_1)\n",
    "print(\"Quarter 2 Sales (in thousands of dollars):\", quarter_2)\n",
    "print(\"Quarter 3 Sales (in thousands of dollars):\", quarter_3)\n",
    "print(\"Quarter 4 Sales (in thousands of dollars):\", quarter_4)\n"
   ]
  },
  {
   "cell_type": "code",
   "execution_count": 7,
   "metadata": {},
   "outputs": [
    {
     "name": "stdout",
     "output_type": "stream",
     "text": [
      "Customers who made a purchase in the last 30 days:\n",
      "[101 102 103 104 105]\n",
      "\n",
      "Customers who haven't made a purchase in the last 30 days:\n",
      "[106 107 108 109 110]\n"
     ]
    }
   ],
   "source": [
    "import numpy as np\n",
    "\n",
    "# Input data\n",
    "customer_ids = np.array([101, 102, 103, 104, 105, 106, 107, 108, 109, 110])\n",
    "last_purchase_days_ago = np.array([5, 15, 20, 25, 30, 35, 40, 45, 50, 55])\n",
    "\n",
    "# Customers who made a purchase in the last 30 days\n",
    "recent_purchase_mask = last_purchase_days_ago <= 30\n",
    "recent_customers = customer_ids[recent_purchase_mask]\n",
    "\n",
    "# Customers who haven't made a purchase in the last 30 days\n",
    "no_recent_purchase_mask = last_purchase_days_ago > 30\n",
    "non_recent_customers = customer_ids[no_recent_purchase_mask]\n",
    "\n",
    "# Print the results\n",
    "print(\"Customers who made a purchase in the last 30 days:\")\n",
    "print(recent_customers)\n",
    "\n",
    "print(\"\\nCustomers who haven't made a purchase in the last 30 days:\")\n",
    "print(non_recent_customers)\n"
   ]
  },
  {
   "cell_type": "code",
   "execution_count": 12,
   "metadata": {},
   "outputs": [
    {
     "name": "stdout",
     "output_type": "stream",
     "text": [
      "Mean of Each array: [5.5, 30.6, 34.0]\n"
     ]
    }
   ],
   "source": [
    "import numpy as np\n",
    "\n",
    "# Input list of NumPy arrays\n",
    "arrays_list = [ np.array([3, 2, 8, 9]),\n",
    "     np.array([4, 12, 34, 25, 78]),\n",
    "    np.array([23, 12, 67])]\n",
    "\n",
    "\n",
    "# Calculate the mean of each array\n",
    "means = [np.mean(arr) for arr in arrays_list]\n",
    "\n",
    "# Output the results\n",
    "print(\"Mean of Each array:\", means)\n"
   ]
  },
  {
   "cell_type": "code",
   "execution_count": null,
   "metadata": {},
   "outputs": [],
   "source": []
  }
 ],
 "metadata": {
  "kernelspec": {
   "display_name": "Python 3",
   "language": "python",
   "name": "python3"
  },
  "language_info": {
   "codemirror_mode": {
    "name": "ipython",
    "version": 3
   },
   "file_extension": ".py",
   "mimetype": "text/x-python",
   "name": "python",
   "nbconvert_exporter": "python",
   "pygments_lexer": "ipython3",
   "version": "3.12.4"
  }
 },
 "nbformat": 4,
 "nbformat_minor": 2
}
