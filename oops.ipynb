{
 "cells": [
  {
   "cell_type": "code",
   "execution_count": 5,
   "metadata": {},
   "outputs": [],
   "source": [
    "class student:\n",
    "    name=\"xyz\"\n",
    "    age=0\n",
    "    def study (self):\n",
    "        print(\"study 3 hour\",self.name)\n",
    "        "
   ]
  },
  {
   "cell_type": "code",
   "execution_count": 13,
   "metadata": {},
   "outputs": [
    {
     "name": "stdout",
     "output_type": "stream",
     "text": [
      "study 3 hour xyz\n",
      "sleep 1 hour\n"
     ]
    }
   ],
   "source": [
    "##incapsulation\n",
    "class student:\n",
    "    name=\"xyz\"\n",
    "    age=0\n",
    "    def study (self):\n",
    "        print(\"study 3 hour\",self.name)\n",
    "        self.sleep()\n",
    "\n",
    "    def sleep (self):\n",
    "        print(\"sleep 1 hour\")\n",
    "\n",
    "obj=student()\n",
    "obj.study()\n",
    "        "
   ]
  },
  {
   "cell_type": "code",
   "execution_count": 17,
   "metadata": {},
   "outputs": [
    {
     "name": "stdout",
     "output_type": "stream",
     "text": [
      "this is show method\n"
     ]
    },
    {
     "ename": "AttributeError",
     "evalue": "'C' object has no attribute 'demo'",
     "output_type": "error",
     "traceback": [
      "\u001b[0;31m---------------------------------------------------------------------------\u001b[0m",
      "\u001b[0;31mAttributeError\u001b[0m                            Traceback (most recent call last)",
      "Cell \u001b[0;32mIn[17], line 18\u001b[0m\n\u001b[1;32m     16\u001b[0m obj\u001b[38;5;241m=\u001b[39m C ()\n\u001b[1;32m     17\u001b[0m obj\u001b[38;5;241m.\u001b[39mshow()\n\u001b[0;32m---> 18\u001b[0m \u001b[43mobj\u001b[49m\u001b[38;5;241;43m.\u001b[39;49m\u001b[43mdemo\u001b[49m()\n",
      "\u001b[0;31mAttributeError\u001b[0m: 'C' object has no attribute 'demo'"
     ]
    }
   ],
   "source": [
    "##inheritance\n",
    "class A:\n",
    "    def show(self):\n",
    "        print(\"this is show method\")\n",
    "\n",
    "class B(A):\n",
    "    def demo (self):\n",
    "        print(\"demo method\")\n",
    "\n",
    "class C(A):\n",
    "    pass\n",
    "\n",
    "class D(B,C):\n",
    "    pass\n",
    "\n",
    "obj= C ()\n",
    "obj.show()\n",
    "obj.demo()\n"
   ]
  },
  {
   "cell_type": "code",
   "execution_count": 24,
   "metadata": {},
   "outputs": [],
   "source": [
    "## method overiding\n",
    "class Bird:\n",
    " def intro(self):\n",
    "     print(\"There are many types of birds.\")\n",
    "\n",
    "def flight (self):\n",
    "     print(\"most of the birds can fly but some cannot.\")\n",
    "\n",
    "class sparrow(Bird):\n",
    " def flight (self):\n",
    "     print(\"i can fly\")\n",
    "\n",
    "class ostrich(Bird):\n",
    "  def flight(self):\n",
    "         print(\"i can't fly\")"
   ]
  },
  {
   "cell_type": "code",
   "execution_count": 25,
   "metadata": {},
   "outputs": [
    {
     "ename": "AttributeError",
     "evalue": "'B' object has no attribute 'name'",
     "output_type": "error",
     "traceback": [
      "\u001b[0;31m---------------------------------------------------------------------------\u001b[0m",
      "\u001b[0;31mAttributeError\u001b[0m                            Traceback (most recent call last)",
      "Cell \u001b[0;32mIn[25], line 10\u001b[0m\n\u001b[1;32m      7\u001b[0m    \u001b[38;5;28mprint\u001b[39m(\u001b[38;5;124m\"\u001b[39m\u001b[38;5;124mThis is show method\u001b[39m\u001b[38;5;124m\"\u001b[39m, \u001b[38;5;28mself\u001b[39m\u001b[38;5;241m.\u001b[39mname)\n\u001b[1;32m      9\u001b[0m obj\u001b[38;5;241m=\u001b[39mB()\n\u001b[0;32m---> 10\u001b[0m \u001b[43mobj\u001b[49m\u001b[38;5;241;43m.\u001b[39;49m\u001b[43mshow\u001b[49m\u001b[43m(\u001b[49m\u001b[43m)\u001b[49m\n",
      "Cell \u001b[0;32mIn[25], line 7\u001b[0m, in \u001b[0;36mB.show\u001b[0;34m(self)\u001b[0m\n\u001b[1;32m      6\u001b[0m \u001b[38;5;28;01mdef\u001b[39;00m \u001b[38;5;21mshow\u001b[39m(\u001b[38;5;28mself\u001b[39m):\n\u001b[0;32m----> 7\u001b[0m  \u001b[38;5;28mprint\u001b[39m(\u001b[38;5;124m\"\u001b[39m\u001b[38;5;124mThis is show method\u001b[39m\u001b[38;5;124m\"\u001b[39m, \u001b[38;5;28;43mself\u001b[39;49m\u001b[38;5;241;43m.\u001b[39;49m\u001b[43mname\u001b[49m)\n",
      "\u001b[0;31mAttributeError\u001b[0m: 'B' object has no attribute 'name'"
     ]
    }
   ],
   "source": [
    "## incapsulation\n",
    "class A:\n",
    " __name=\"abc\"\n",
    "\n",
    "class B (A):\n",
    "  def show(self):\n",
    "   print(\"This is show method\", self.name)\n",
    "\n",
    "obj=B()\n",
    "obj.show()"
   ]
  },
  {
   "cell_type": "code",
   "execution_count": 3,
   "metadata": {},
   "outputs": [
    {
     "name": "stdout",
     "output_type": "stream",
     "text": [
      "line 1\n",
      "line 2\n",
      "line 3\n",
      "line 3\n",
      "0.6\n"
     ]
    },
    {
     "ename": "FileNotFoundError",
     "evalue": "[Errno 2] No such file or directory: 'anudip.txt'",
     "output_type": "error",
     "traceback": [
      "\u001b[0;31m---------------------------------------------------------------------------\u001b[0m",
      "\u001b[0;31mFileNotFoundError\u001b[0m                         Traceback (most recent call last)",
      "Cell \u001b[0;32mIn[3], line 9\u001b[0m\n\u001b[1;32m      6\u001b[0m num2\u001b[38;5;241m=\u001b[39m\u001b[38;5;28mint\u001b[39m (\u001b[38;5;28minput\u001b[39m(\u001b[38;5;124m\"\u001b[39m\u001b[38;5;124menter the division number:\u001b[39m\u001b[38;5;124m\"\u001b[39m))\n\u001b[1;32m      8\u001b[0m \u001b[38;5;28mprint\u001b[39m(num1\u001b[38;5;241m/\u001b[39mnum2)\n\u001b[0;32m----> 9\u001b[0m \u001b[38;5;28;43mopen\u001b[39;49m\u001b[43m(\u001b[49m\u001b[38;5;124;43m\"\u001b[39;49m\u001b[38;5;124;43manudip.txt\u001b[39;49m\u001b[38;5;124;43m\"\u001b[39;49m\u001b[43m)\u001b[49m\n\u001b[1;32m     11\u001b[0m \u001b[38;5;28mprint\u001b[39m (\u001b[38;5;124m\"\u001b[39m\u001b[38;5;124msomething went wrong\u001b[39m\u001b[38;5;124m\"\u001b[39m)\n\u001b[1;32m     13\u001b[0m \u001b[38;5;28mprint\u001b[39m(\u001b[38;5;124m\"\u001b[39m\u001b[38;5;124m line 6\u001b[39m\u001b[38;5;124m\"\u001b[39m)\n",
      "File \u001b[0;32m~/Library/Python/3.12/lib/python/site-packages/IPython/core/interactiveshell.py:324\u001b[0m, in \u001b[0;36m_modified_open\u001b[0;34m(file, *args, **kwargs)\u001b[0m\n\u001b[1;32m    317\u001b[0m \u001b[38;5;28;01mif\u001b[39;00m file \u001b[38;5;129;01min\u001b[39;00m {\u001b[38;5;241m0\u001b[39m, \u001b[38;5;241m1\u001b[39m, \u001b[38;5;241m2\u001b[39m}:\n\u001b[1;32m    318\u001b[0m     \u001b[38;5;28;01mraise\u001b[39;00m \u001b[38;5;167;01mValueError\u001b[39;00m(\n\u001b[1;32m    319\u001b[0m         \u001b[38;5;124mf\u001b[39m\u001b[38;5;124m\"\u001b[39m\u001b[38;5;124mIPython won\u001b[39m\u001b[38;5;124m'\u001b[39m\u001b[38;5;124mt let you open fd=\u001b[39m\u001b[38;5;132;01m{\u001b[39;00mfile\u001b[38;5;132;01m}\u001b[39;00m\u001b[38;5;124m by default \u001b[39m\u001b[38;5;124m\"\u001b[39m\n\u001b[1;32m    320\u001b[0m         \u001b[38;5;124m\"\u001b[39m\u001b[38;5;124mas it is likely to crash IPython. If you know what you are doing, \u001b[39m\u001b[38;5;124m\"\u001b[39m\n\u001b[1;32m    321\u001b[0m         \u001b[38;5;124m\"\u001b[39m\u001b[38;5;124myou can use builtins\u001b[39m\u001b[38;5;124m'\u001b[39m\u001b[38;5;124m open.\u001b[39m\u001b[38;5;124m\"\u001b[39m\n\u001b[1;32m    322\u001b[0m     )\n\u001b[0;32m--> 324\u001b[0m \u001b[38;5;28;01mreturn\u001b[39;00m \u001b[43mio_open\u001b[49m\u001b[43m(\u001b[49m\u001b[43mfile\u001b[49m\u001b[43m,\u001b[49m\u001b[43m \u001b[49m\u001b[38;5;241;43m*\u001b[39;49m\u001b[43margs\u001b[49m\u001b[43m,\u001b[49m\u001b[43m \u001b[49m\u001b[38;5;241;43m*\u001b[39;49m\u001b[38;5;241;43m*\u001b[39;49m\u001b[43mkwargs\u001b[49m\u001b[43m)\u001b[49m\n",
      "\u001b[0;31mFileNotFoundError\u001b[0m: [Errno 2] No such file or directory: 'anudip.txt'"
     ]
    }
   ],
   "source": [
    "print(\"line 1\")\n",
    "print(\"line 2\")\n",
    "print(\"line 3\")\n",
    "print(\"line 3\")\n",
    "num1=int (input(\"Enter first number :\"))\n",
    "num2=int (input(\"enter the division number:\"))\n",
    "\n",
    "print(num1/num2)\n",
    "open(\"anudip.txt\")\n",
    "\n",
    "print (\"something went wrong\")\n",
    "\n",
    "print(\" line 6\")"
   ]
  },
  {
   "cell_type": "code",
   "execution_count": 6,
   "metadata": {},
   "outputs": [
    {
     "name": "stdout",
     "output_type": "stream",
     "text": [
      "line 1\n",
      "line 2\n",
      "line 3\n",
      "line 3\n",
      "0.6\n",
      "Else block\n",
      "Finally block\n",
      "Line 6\n"
     ]
    }
   ],
   "source": [
    "print(\"line 1\")\n",
    "print(\"line 2\")\n",
    "print(\"line 3\")\n",
    "print(\"line 3\")\n",
    "num1=int (input(\"Enter first number :\"))\n",
    "num2=int (input(\"enter the division number:\"))\n",
    "\n",
    "try:\n",
    "   print(num1/num2)\n",
    "except:\n",
    "    print(\"something went wrong\")\n",
    "else:\n",
    "    print(\"Else block\")\n",
    "finally:\n",
    "    print(\"Finally block\")\n",
    "\n",
    "print(\"Line 6\")"
   ]
  },
  {
   "cell_type": "code",
   "execution_count": 2,
   "metadata": {},
   "outputs": [
    {
     "name": "stdout",
     "output_type": "stream",
     "text": [
      "You entered the integer: 12\n"
     ]
    }
   ],
   "source": [
    "\n",
    "user_input = input(\"Please enter an integer: \")\n",
    "try:\n",
    "        # Attempt to convert the input to an integer\n",
    "        value = int(user_input)\n",
    "        print(f\"You entered the integer: {value}\")\n",
    "except ValueError:\n",
    "        # Raise a ValueError if the input cannot be converted to an integer\n",
    "        raise ValueError(\"The input is not a valid integer. Please enter a valid integer.\")\n",
    "\n"
   ]
  },
  {
   "cell_type": "code",
   "execution_count": 4,
   "metadata": {},
   "outputs": [],
   "source": [
    "def agecheck (age):\n",
    "    if age>=18:\n",
    "        print(\"you can vote\")\n",
    "    else:\n",
    "       raise ValueError(\"you can't vote\")   \n",
    "\n",
    "\n",
    "    try:\n",
    "        agecheck(14)\n",
    "    except ValueError as e :\n",
    "        print(e) "
   ]
  },
  {
   "cell_type": "code",
   "execution_count": 9,
   "metadata": {},
   "outputs": [
    {
     "name": "stdout",
     "output_type": "stream",
     "text": [
      "a array 42\n",
      "b array [1 2 3 4 5]\n",
      "c array [[1 2 3]\n",
      " [4 5 6]]\n",
      "d array [[[1 2 3]\n",
      "  [4 5 6]\n",
      "  [1 2 3]\n",
      "  [4 5 6]]]\n",
      "a array dimen 0\n",
      "b array dimen 1\n",
      "c array dimen 2\n",
      "d array dimen 3\n"
     ]
    }
   ],
   "source": [
    "import numpy as np\n",
    "\n",
    "a=np.array(42)\n",
    "b=np.array([1,2,3,4,5])\n",
    "c=np.array([[1,2,3],[4,5,6]])\n",
    "d=np.array([[[1,2,3],[4,5,6],[1,2,3],[4,5,6]]])\n",
    "\n",
    "print(\"a array\",a)\n",
    "print(\"b array\",b)\n",
    "print(\"c array\",c)\n",
    "print(\"d array\",d)\n",
    "\n",
    "print(\"a array dimen\",a. ndim)\n",
    "print(\"b array dimen\",b . ndim)\n",
    "print(\"c array dimen\",c . ndim)\n",
    "print(\"d array dimen\",d . ndim)"
   ]
  },
  {
   "cell_type": "code",
   "execution_count": 11,
   "metadata": {},
   "outputs": [
    {
     "name": "stdout",
     "output_type": "stream",
     "text": [
      "[1 2 3 4 5 6 7]\n",
      "[2 3 4 5]\n",
      "[  1   2   3 100   5   6   7]\n",
      "[  2   3 100   5]\n"
     ]
    }
   ],
   "source": [
    "import numpy as np\n",
    "arr = np.array([1,2,3,4,5,6,7])\n",
    "\n",
    "sarr=arr[1:5]\n",
    "print(arr)\n",
    "print(sarr)\n",
    "\n",
    "sarr[2]=100\n",
    "\n",
    "print(arr)\n",
    "print(sarr)"
   ]
  },
  {
   "cell_type": "code",
   "execution_count": 13,
   "metadata": {},
   "outputs": [
    {
     "name": "stdout",
     "output_type": "stream",
     "text": [
      "[42  2  3  4  5]\n",
      "[1 2 3 4 5]\n"
     ]
    }
   ],
   "source": [
    "import numpy as np\n",
    "\n",
    "arr = np. array([1,2,3,4,5])\n",
    "x= arr. copy()\n",
    "arr[0]=42\n",
    "print(arr)\n",
    "print(x)"
   ]
  },
  {
   "cell_type": "code",
   "execution_count": 15,
   "metadata": {},
   "outputs": [
    {
     "name": "stdout",
     "output_type": "stream",
     "text": [
      "[42  2  3  4  5]\n",
      "[42  2  3  4  5]\n"
     ]
    }
   ],
   "source": [
    "import numpy as np\n",
    "arr= np.array([1,2,3,4,5])\n",
    "x= arr.view()\n",
    "arr[0]= 42\n",
    "\n",
    "print(arr)\n",
    "print(x)"
   ]
  },
  {
   "cell_type": "code",
   "execution_count": 1,
   "metadata": {},
   "outputs": [
    {
     "ename": "NameError",
     "evalue": "name 'np' is not defined",
     "output_type": "error",
     "traceback": [
      "\u001b[0;31m---------------------------------------------------------------------------\u001b[0m",
      "\u001b[0;31mNameError\u001b[0m                                 Traceback (most recent call last)",
      "Cell \u001b[0;32mIn[1], line 2\u001b[0m\n\u001b[1;32m      1\u001b[0m \u001b[38;5;28;01mimport\u001b[39;00m \u001b[38;5;21;01mnumpy\u001b[39;00m \u001b[38;5;28;01mas\u001b[39;00m \u001b[38;5;21;01mn\u001b[39;00m\n\u001b[0;32m----> 2\u001b[0m arr5 \u001b[38;5;241m=\u001b[39m\u001b[43mnp\u001b[49m\u001b[38;5;241m.\u001b[39mdiag((\u001b[38;5;241m3\u001b[39m,\u001b[38;5;241m4\u001b[39m,\u001b[38;5;241m1\u001b[39m,\u001b[38;5;241m6\u001b[39m))\n\u001b[1;32m      3\u001b[0m \u001b[38;5;28mprint\u001b[39m(arr5)\n\u001b[1;32m      4\u001b[0m \u001b[38;5;28mprint\u001b[39m(arr5\u001b[38;5;241m.\u001b[39mndim)\n",
      "\u001b[0;31mNameError\u001b[0m: name 'np' is not defined"
     ]
    }
   ],
   "source": [
    "import numpy as n\n",
    "arr5 =np.diag((3,4,1,6))\n",
    "print(arr5)\n",
    "print(arr5.ndim)\n",
    "print(arr5.shape)"
   ]
  },
  {
   "cell_type": "code",
   "execution_count": 4,
   "metadata": {},
   "outputs": [
    {
     "name": "stdout",
     "output_type": "stream",
     "text": [
      "[1 5 6]\n",
      "<function diag at 0x107a7b380>\n"
     ]
    },
    {
     "ename": "TypeError",
     "evalue": "'NoneType' object is not callable",
     "output_type": "error",
     "traceback": [
      "\u001b[0;31m---------------------------------------------------------------------------\u001b[0m",
      "\u001b[0;31mTypeError\u001b[0m                                 Traceback (most recent call last)",
      "Cell \u001b[0;32mIn[4], line 4\u001b[0m\n\u001b[1;32m      2\u001b[0m arr\u001b[38;5;241m=\u001b[39m np\u001b[38;5;241m.\u001b[39marray([[\u001b[38;5;241m1\u001b[39m,\u001b[38;5;241m2\u001b[39m,\u001b[38;5;241m3\u001b[39m],[\u001b[38;5;241m4\u001b[39m,\u001b[38;5;241m5\u001b[39m,\u001b[38;5;241m6\u001b[39m],[\u001b[38;5;241m4\u001b[39m,\u001b[38;5;241m5\u001b[39m,\u001b[38;5;241m6\u001b[39m]])\n\u001b[1;32m      3\u001b[0m \u001b[38;5;28mprint\u001b[39m(np\u001b[38;5;241m.\u001b[39mdiag(arr))\n\u001b[0;32m----> 4\u001b[0m \u001b[38;5;28;43mprint\u001b[39;49m\u001b[43m(\u001b[49m\u001b[43mnp\u001b[49m\u001b[38;5;241;43m.\u001b[39;49m\u001b[43mdiag\u001b[49m\u001b[43m)\u001b[49m\u001b[43m(\u001b[49m\u001b[43m(\u001b[49m\u001b[38;5;241;43m3\u001b[39;49m\u001b[43m,\u001b[49m\u001b[38;5;241;43m9\u001b[39;49m\u001b[43m,\u001b[49m\u001b[38;5;241;43m5\u001b[39;49m\u001b[43m)\u001b[49m\u001b[43m)\u001b[49m\n",
      "\u001b[0;31mTypeError\u001b[0m: 'NoneType' object is not callable"
     ]
    }
   ],
   "source": [
    "import numpy as np\n",
    "arr= np.array([[1,2,3],[4,5,6],[4,5,6]])\n",
    "print(np.diag(arr))\n",
    "print(np.diag)((3,9,5))"
   ]
  },
  {
   "cell_type": "code",
   "execution_count": 6,
   "metadata": {},
   "outputs": [
    {
     "name": "stdout",
     "output_type": "stream",
     "text": [
      "[0.17282343 0.02416376 0.58050086 0.93788019]\n",
      "[[0.01033516 0.65955533 0.62376445]\n",
      " [0.84144157 0.30955037 0.84749635]]\n",
      "[ 2 60  0 47 91 17 45 75 73 75 97 70]\n"
     ]
    }
   ],
   "source": [
    "##This function generates array  of specified shape and fills \n",
    "rand=n.random.rand(4)\n",
    "print(rand)\n",
    "rand=n.random.rand(2,3)\n",
    "print(rand)\n",
    "\n",
    "arr=n.random.randint(0,100,12)\n",
    "print(arr)"
   ]
  },
  {
   "cell_type": "code",
   "execution_count": 8,
   "metadata": {},
   "outputs": [
    {
     "name": "stdout",
     "output_type": "stream",
     "text": [
      "[59 29 29 92 15 25 91 93 84 45 33 93]\n",
      "[[59 29 29]\n",
      " [92 15 25]\n",
      " [91 93 84]\n",
      " [45 33 93]]\n",
      "Array vaues is 29\n",
      "Array vaues is 92\n",
      "(4, 3)\n",
      "[[59 29 29 92]\n",
      " [15 25 91 93]\n",
      " [84 45 33 93]]\n",
      "[[59 29 29 92 15 25]\n",
      " [91 93 84 45 33 93]]\n"
     ]
    }
   ],
   "source": [
    "##The reshape function in numpy allows you to change the shape of an array without changing its data.\n",
    "arr=n.random.randint(0,100,12)\n",
    "print(arr)\n",
    "arr=arr.reshape(4,3)\n",
    "print(arr)\n",
    "print(\"Array vaues is\",arr[0][1])\n",
    "print(\"Array vaues is\",arr[1][0])\n",
    "print(arr.shape)\n",
    "arr=arr.reshape(-1,4)\n",
    "print(arr)\n",
    "arr=arr.reshape(2,-1)\n",
    "print(arr)"
   ]
  },
  {
   "cell_type": "code",
   "execution_count": 10,
   "metadata": {},
   "outputs": [
    {
     "name": "stdout",
     "output_type": "stream",
     "text": [
      "newslicing [3 4 8 5 6]\n",
      "new array [   1   20    5    9    3    4    8    5    6    2   25    2 2265    3\n",
      "   33]\n",
      "<class 'numpy.ndarray'>\n",
      "<class 'numpy.ndarray'>\n",
      "old slicing [0 0 0 0 0]\n",
      "old array [   1   20    5    9    0    0    0    0    0    2   25    2 2265    3\n",
      "   33]\n"
     ]
    }
   ],
   "source": [
    "import numpy as n\n",
    "arr=n.array([1,20,5,9,3,4,8,5,6,2,25,2,2265,3,33])\n",
    "slicing=arr[4:9]\n",
    "print(\"newslicing\",slicing)\n",
    "print(\"new array\",arr)\n",
    "print(type(slicing))\n",
    "print(type(arr))\n",
    "slicing[:]=0\n",
    "print(\"old slicing\",slicing)\n",
    "print(\"old array\",arr)\n"
   ]
  },
  {
   "cell_type": "code",
   "execution_count": 12,
   "metadata": {},
   "outputs": [
    {
     "name": "stdout",
     "output_type": "stream",
     "text": [
      "[ 1  2  3  4  5  6  7  8  9 10 11 12 13 14]\n",
      "[ 2  4  6  8 10 12 14]\n"
     ]
    }
   ],
   "source": [
    "import numpy as np\n",
    "\n",
    "arr=n.arange(1,15)\n",
    "print(arr)\n",
    "print(arr[arr%2==0])\n"
   ]
  },
  {
   "cell_type": "code",
   "execution_count": 20,
   "metadata": {},
   "outputs": [
    {
     "name": "stdout",
     "output_type": "stream",
     "text": [
      "[ 1  2  3  4  5  6  7  8  9 10 11 12 13 14]\n",
      "[False  True False  True False  True False  True False  True False  True\n",
      " False  True]\n",
      "[ True False  True False  True False  True False  True False  True False\n",
      "  True False]\n",
      "[ 9 10 11 12 13 14]\n"
     ]
    },
    {
     "ename": "TypeError",
     "evalue": "'numpy.ndarray' object is not callable",
     "output_type": "error",
     "traceback": [
      "\u001b[0;31m---------------------------------------------------------------------------\u001b[0m",
      "\u001b[0;31mTypeError\u001b[0m                                 Traceback (most recent call last)",
      "Cell \u001b[0;32mIn[20], line 6\u001b[0m\n\u001b[1;32m      4\u001b[0m \u001b[38;5;28mprint\u001b[39m(ar1\u001b[38;5;241m%\u001b[39m\u001b[38;5;241m2\u001b[39m \u001b[38;5;241m!=\u001b[39m \u001b[38;5;241m0\u001b[39m)\n\u001b[1;32m      5\u001b[0m \u001b[38;5;28mprint\u001b[39m(ar1[ar1\u001b[38;5;241m>\u001b[39m\u001b[38;5;241m8\u001b[39m])\n\u001b[0;32m----> 6\u001b[0m ar1\u001b[38;5;241m=\u001b[39m\u001b[43mar1\u001b[49m\u001b[43m(\u001b[49m\u001b[43m[\u001b[49m\u001b[43mar1\u001b[49m\u001b[38;5;241;43m%\u001b[39;49m\u001b[38;5;241;43m2\u001b[39;49m\u001b[38;5;241;43m==\u001b[39;49m\u001b[43m \u001b[49m\u001b[38;5;241;43m0\u001b[39;49m\u001b[43m]\u001b[49m\u001b[43m)\u001b[49m\n\u001b[1;32m      7\u001b[0m \u001b[38;5;28mprint\u001b[39m(ar1)\n\u001b[1;32m      8\u001b[0m ar1 \u001b[38;5;241m=\u001b[39mnp\u001b[38;5;241m.\u001b[39marange(\u001b[38;5;241m1\u001b[39m,\u001b[38;5;241m8\u001b[39m)\n",
      "\u001b[0;31mTypeError\u001b[0m: 'numpy.ndarray' object is not callable"
     ]
    }
   ],
   "source": [
    "ar1 =np.arange(1,15)\n",
    "print(ar1)\n",
    "print(ar1%2 == 0)\n",
    "print(ar1%2 != 0)\n",
    "print(ar1[ar1>8])\n",
    "ar1=ar1([ar1%2== 0])\n",
    "print(ar1)\n",
    "ar1 =np.arange(1,8)\n",
    "print(ar1+2)\n",
    "print(ar1*2)\n",
    "print(ar1**2)\n",
    "\n"
   ]
  },
  {
   "cell_type": "code",
   "execution_count": 21,
   "metadata": {},
   "outputs": [
    {
     "ename": "AttributeError",
     "evalue": "module 'numpy' has no attribute 'randomseed'",
     "output_type": "error",
     "traceback": [
      "\u001b[0;31m---------------------------------------------------------------------------\u001b[0m",
      "\u001b[0;31mAttributeError\u001b[0m                            Traceback (most recent call last)",
      "Cell \u001b[0;32mIn[21], line 2\u001b[0m\n\u001b[1;32m      1\u001b[0m \u001b[38;5;28;01mimport\u001b[39;00m \u001b[38;5;21;01mnumpy\u001b[39;00m \u001b[38;5;28;01mas\u001b[39;00m \u001b[38;5;21;01mnp\u001b[39;00m\n\u001b[0;32m----> 2\u001b[0m \u001b[43mn\u001b[49m\u001b[43m \u001b[49m\u001b[38;5;241;43m.\u001b[39;49m\u001b[43mrandomseed\u001b[49m(\u001b[38;5;241m122\u001b[39m)\n\u001b[1;32m      3\u001b[0m mat\u001b[38;5;241m=\u001b[39mn\u001b[38;5;241m.\u001b[39mrandom\u001b[38;5;241m.\u001b[39mrandint(\u001b[38;5;241m1\u001b[39m,\u001b[38;5;241m21\u001b[39m,\u001b[38;5;241m9\u001b[39m)\u001b[38;5;241m.\u001b[39mreshape(\u001b[38;5;241m3\u001b[39m,\u001b[38;5;241m3\u001b[39m)\n\u001b[1;32m      4\u001b[0m \u001b[38;5;28mprint\u001b[39m(mat)\n",
      "File \u001b[0;32m/Library/Frameworks/Python.framework/Versions/3.12/lib/python3.12/site-packages/numpy/__init__.py:333\u001b[0m, in \u001b[0;36m__getattr__\u001b[0;34m(attr)\u001b[0m\n\u001b[1;32m    330\u001b[0m     \u001b[38;5;124m\"\u001b[39m\u001b[38;5;124mRemoved in NumPy 1.25.0\u001b[39m\u001b[38;5;124m\"\u001b[39m\n\u001b[1;32m    331\u001b[0m     \u001b[38;5;28;01mraise\u001b[39;00m \u001b[38;5;167;01mRuntimeError\u001b[39;00m(\u001b[38;5;124m\"\u001b[39m\u001b[38;5;124mTester was removed in NumPy 1.25.\u001b[39m\u001b[38;5;124m\"\u001b[39m)\n\u001b[0;32m--> 333\u001b[0m \u001b[38;5;28;01mraise\u001b[39;00m \u001b[38;5;167;01mAttributeError\u001b[39;00m(\u001b[38;5;124m\"\u001b[39m\u001b[38;5;124mmodule \u001b[39m\u001b[38;5;132;01m{!r}\u001b[39;00m\u001b[38;5;124m has no attribute \u001b[39m\u001b[38;5;124m\"\u001b[39m\n\u001b[1;32m    334\u001b[0m                      \u001b[38;5;124m\"\u001b[39m\u001b[38;5;132;01m{!r}\u001b[39;00m\u001b[38;5;124m\"\u001b[39m\u001b[38;5;241m.\u001b[39mformat(\u001b[38;5;18m__name__\u001b[39m, attr))\n",
      "\u001b[0;31mAttributeError\u001b[0m: module 'numpy' has no attribute 'randomseed'"
     ]
    }
   ],
   "source": [
    "import numpy as np\n",
    "n .randomseed(122)\n",
    "mat=n.random.randint(1,21,9).reshape(3,3)\n",
    "print(mat)\n",
    "print(n.sum(mat))\n",
    "print(n.cumsum(mat))\n",
    "print(n.min(mat))\n",
    "print(n.max(mat))\n"
   ]
  },
  {
   "cell_type": "code",
   "execution_count": 1,
   "metadata": {},
   "outputs": [
    {
     "ename": "SyntaxError",
     "evalue": "invalid syntax (1830286760.py, line 1)",
     "output_type": "error",
     "traceback": [
      "\u001b[0;36m  Cell \u001b[0;32mIn[1], line 1\u001b[0;36m\u001b[0m\n\u001b[0;31m    Import numpy as n\u001b[0m\n\u001b[0m           ^\u001b[0m\n\u001b[0;31mSyntaxError\u001b[0m\u001b[0;31m:\u001b[0m invalid syntax\n"
     ]
    }
   ],
   "source": [
    "Import numpy as n \n",
    "\n",
    "n.random.seed (122)\n",
    "\n",
    "mat =n.random.randint (1,21,10)\n",
    "\n",
    "print (mat)\n",
    "\n",
    "n.random.shuffle (mat)\n",
    "\n",
    "print(mat)\n",
    "\n",
    "print (n.unique (mat, return_index=True,return_counts=True))\n",
    "\n",
    "print(n.unique(mat).size)"
   ]
  },
  {
   "cell_type": "code",
   "execution_count": 4,
   "metadata": {},
   "outputs": [
    {
     "name": "stdout",
     "output_type": "stream",
     "text": [
      "sorted array(ascending): [1 2 3 4 5]\n",
      "sorted array(descending); [5 4 3 2 1]\n"
     ]
    }
   ],
   "source": [
    "##numpy sort \n",
    "import numpy as np\n",
    "arr=np.array([3,1,2,4,5])\n",
    "sorted_arr=np.sort(arr)\n",
    "print(\"sorted array(ascending):\",sorted_arr)\n",
    "sorted_arr_desc = np .sort(arr)[::-1]\n",
    "print (\"sorted array(descending);\",sorted_arr_desc)\n",
    "\n"
   ]
  },
  {
   "cell_type": "code",
   "execution_count": 7,
   "metadata": {},
   "outputs": [
    {
     "name": "stdout",
     "output_type": "stream",
     "text": [
      "sorted array (ascending): [1 2 3 4 5]\n"
     ]
    }
   ],
   "source": [
    "import numpy as np\n",
    "matrix=np.array([[3,1,2],[6,5,4]])\n",
    "sorted_matrix=np.sort (matrix , axis =1)\n",
    "print(\"sorted array (ascending):\",sorted_arr)"
   ]
  },
  {
   "cell_type": "code",
   "execution_count": 9,
   "metadata": {},
   "outputs": [
    {
     "name": "stdout",
     "output_type": "stream",
     "text": [
      "[[1 2 5 6]\n",
      " [3 4 7 8]]\n"
     ]
    }
   ],
   "source": [
    "import numpy as np\n",
    "arr1 = np . array([[1,2],[3,4]])\n",
    "arr2 = np . array ([[5,6],[7,8]])\n",
    "\n",
    "result = np .concatenate((arr1,arr2), axis=1)\n",
    "print (result)"
   ]
  },
  {
   "cell_type": "code",
   "execution_count": 11,
   "metadata": {},
   "outputs": [
    {
     "name": "stdout",
     "output_type": "stream",
     "text": [
      "[1 2 3 4 5 6]\n"
     ]
    }
   ],
   "source": [
    "import numpy as np\n",
    "arr1 = np .array([1,2,3])\n",
    "arr2 = np .array([4,5,6])\n",
    "result = np .hstack((arr1 ,arr2))\n",
    "print(result)"
   ]
  },
  {
   "cell_type": "code",
   "execution_count": 14,
   "metadata": {},
   "outputs": [
    {
     "name": "stdout",
     "output_type": "stream",
     "text": [
      "classB score average 86.0\n",
      "class B variance is 114.0\n",
      "class B variance is 10.677078252031311\n"
     ]
    }
   ],
   "source": [
    "import numpy as np\n",
    "classB = np .array([70,80,85,95,100])\n",
    "classB_mean= np. mean(classB)\n",
    "\n",
    "print('classB score average',classB_mean)\n",
    "\n",
    "var=np.var(classB)\n",
    "print('class B variance is',var)\n",
    "std=np.std(classB)\n",
    "print('class B variance is', std)"
   ]
  },
  {
   "cell_type": "code",
   "execution_count": 16,
   "metadata": {},
   "outputs": [
    {
     "name": "stdout",
     "output_type": "stream",
     "text": [
      "Median (50th Percentile): 109.0\n"
     ]
    }
   ],
   "source": [
    "#Test scores of 30 students \n",
    "test_scores = np.array([65, 75, 80, 85, 90, 92, 94, 95, 96, 98, 100, 102, 104, 106, 108, 110, 112, 114, 116, 118, 120, 122, 124, 126, 128, 130, 132, 134, 136, 138]) \n",
    "median = np.percentile(test_scores, 50) \n",
    "print(\"Median (50th Percentile):\",median)"
   ]
  },
  {
   "cell_type": "code",
   "execution_count": 18,
   "metadata": {},
   "outputs": [
    {
     "name": "stdout",
     "output_type": "stream",
     "text": [
      "original scores: [85 92 78 88 95 72 89]\n",
      "loaded scores: [85 92 78 88 95 72 89]\n"
     ]
    }
   ],
   "source": [
    "import numpy as np\n",
    "scores = np . array([85,92,78,88,95,72,89])\n",
    "np. save('student_scores.npy',scores)\n",
    "loaded_scores = np.load('student_scores.npy')\n",
    "print(\"original scores:\", scores)\n",
    "print(\"loaded scores:\",loaded_scores)"
   ]
  },
  {
   "cell_type": "code",
   "execution_count": null,
   "metadata": {},
   "outputs": [],
   "source": []
  }
 ],
 "metadata": {
  "kernelspec": {
   "display_name": "Python 3",
   "language": "python",
   "name": "python3"
  },
  "language_info": {
   "codemirror_mode": {
    "name": "ipython",
    "version": 3
   },
   "file_extension": ".py",
   "mimetype": "text/x-python",
   "name": "python",
   "nbconvert_exporter": "python",
   "pygments_lexer": "ipython3",
   "version": "3.12.4"
  }
 },
 "nbformat": 4,
 "nbformat_minor": 2
}
