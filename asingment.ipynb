{
 "cells": [
  {
   "cell_type": "code",
   "execution_count": 2,
   "metadata": {},
   "outputs": [
    {
     "name": "stdout",
     "output_type": "stream",
     "text": [
      "{'to': 2, 'change': 2, 'the': 3, 'overall': 1, 'look': 2, 'of': 1, 'your': 1, 'document': 1, 'available': 1, 'in': 1, 'gallery': 1}\n"
     ]
    }
   ],
   "source": [
    "def count_word_occurrences(sentence):\n",
    "    sentence = sentence.lower()\n",
    "    sentence = ''.join(char for char in sentence if char.isalnum() or char.isspace())\n",
    "    words = sentence.split()\n",
    "    word_counts = {}\n",
    "\n",
    "    for word in words:\n",
    "        if word in word_counts:\n",
    "            word_counts[word] += 1\n",
    "        else:\n",
    "            word_counts[word] = 1\n",
    "\n",
    "    return word_counts\n",
    "\n",
    "\n",
    "sentence = \"To change the overall look of your document. To change the look available in the gallery\"\n",
    "word_counts = count_word_occurrences(sentence)\n",
    "print(word_counts)"
   ]
  },
  {
   "cell_type": "code",
   "execution_count": 4,
   "metadata": {},
   "outputs": [
    {
     "name": "stdout",
     "output_type": "stream",
     "text": [
      "Best Deeptech Python Training\n"
     ]
    }
   ],
   "source": [
    "def remove_newlines(string):\n",
    "    cleaned_string = string.replace('\\n', '')\n",
    "    return cleaned_string\n",
    "string = \"\\nBest \\nDeeptech \\nPython \\nTraining\\n\"\n",
    "cleaned_string = remove_newlines(string)\n",
    "print(cleaned_string)\n"
   ]
  },
  {
   "cell_type": "code",
   "execution_count": 6,
   "metadata": {},
   "outputs": [
    {
     "name": "stdout",
     "output_type": "stream",
     "text": [
      "Training Python Deeptech\n"
     ]
    }
   ],
   "source": [
    "\"\"\"\n",
    "\"\"\"\n",
    "def reverse_words(string):\n",
    "    words = string.split()\n",
    "    \n",
    "    \n",
    "    reversed_words = words[::-1]\n",
    "    \n",
    "   \n",
    "    reversed_string = ' '.join(reversed_words)\n",
    "    \n",
    "    return reversed_string\n",
    "\n",
    "\n",
    "string = \"Deeptech Python Training\"\n",
    "reversed_string = reverse_words(string)\n",
    "print(reversed_string)"
   ]
  },
  {
   "cell_type": "code",
   "execution_count": 8,
   "metadata": {},
   "outputs": [
    {
     "name": "stdout",
     "output_type": "stream",
     "text": [
      "Training Python Deeptech\n"
     ]
    }
   ],
   "source": [
    "def reverse_words(string):\n",
    "    words = string.split()\n",
    "    \n",
    "    \n",
    "    reversed_words = words[::-1]\n",
    "    \n",
    "   \n",
    "    reversed_string = ' '.join(reversed_words)\n",
    "    \n",
    "    return reversed_string\n",
    "\n",
    "\n",
    "string = \"Deeptech Python Training\"\n",
    "reversed_string = reverse_words(string)\n",
    "print(reversed_string)\n"
   ]
  },
  {
   "cell_type": "code",
   "execution_count": 10,
   "metadata": {},
   "outputs": [],
   "source": [
    "#assignment part 2"
   ]
  },
  {
   "cell_type": "code",
   "execution_count": 12,
   "metadata": {},
   "outputs": [
    {
     "name": "stdout",
     "output_type": "stream",
     "text": [
      "The division of 10 by 2 is 5.0\n"
     ]
    }
   ],
   "source": [
    "def div(a, b):\n",
    "    if b == 0:\n",
    "        return \"Division by zero is not allowed.\"\n",
    "    return a / b\n",
    "\n",
    "# Example usage\n",
    "num1 = 10\n",
    "num2 = 2\n",
    "result = div(num1, num2)\n",
    "print(f\"The division of {num1} by {num2} is {result}\")"
   ]
  },
  {
   "cell_type": "code",
   "execution_count": 14,
   "metadata": {},
   "outputs": [
    {
     "name": "stdout",
     "output_type": "stream",
     "text": [
      "The square of 5 is 25\n"
     ]
    }
   ],
   "source": [
    "def square(n):\n",
    "    return n * n\n",
    "\n",
    "# Example usage\n",
    "num = 5\n",
    "result = square(num)\n",
    "print(f\"The square of {num} is {result}\")"
   ]
  },
  {
   "cell_type": "code",
   "execution_count": 16,
   "metadata": {},
   "outputs": [
    {
     "name": "stdout",
     "output_type": "stream",
     "text": [
      "Generated numbers: [25, 3, 81, 69, 45]\n",
      "The maximum number is: 81\n",
      "The minimum number is: 3\n"
     ]
    }
   ],
   "source": [
    "import random\n",
    "\n",
    "# Generate 5 random numbers\n",
    "random_numbers = [random.randint(1, 100) for _ in range(5)]\n",
    "\n",
    "# Display the generated numbers\n",
    "print(f\"Generated numbers: {random_numbers}\")\n",
    "\n",
    "# Find the maximum and minimum numbers\n",
    "max_number = max(random_numbers)\n",
    "min_number = min(random_numbers)\n",
    "\n",
    "# Display the maximum and minimum numbers\n",
    "print(f\"The maximum number is: {max_number}\")\n",
    "print(f\"The minimum number is: {min_number}\")"
   ]
  },
  {
   "cell_type": "code",
   "execution_count": 4,
   "metadata": {},
   "outputs": [
    {
     "name": "stdout",
     "output_type": "stream",
     "text": [
      "Your name in lowercase is:  \n"
     ]
    }
   ],
   "source": [
    "# Accept a name from the user\n",
    "name = input(\"Please enter your name: \")\n",
    "\n",
    "# Convert the name to lowercase\n",
    "lowercase_name = name.lower()\n",
    "\n",
    "# Display the name in lowercase\n",
    "print(f\"Your name in lowercase is: \",lowercase_name)"
   ]
  },
  {
   "cell_type": "code",
   "execution_count": 5,
   "metadata": {},
   "outputs": [],
   "source": [
    "##assignment part 3\n"
   ]
  },
  {
   "cell_type": "code",
   "execution_count": 7,
   "metadata": {},
   "outputs": [
    {
     "ename": "IndentationError",
     "evalue": "unindent does not match any outer indentation level (<string>, line 14)",
     "output_type": "error",
     "traceback": [
      "\u001b[0;36m  File \u001b[0;32m<string>:14\u001b[0;36m\u001b[0m\n\u001b[0;31m    return chars, digits, symbols\u001b[0m\n\u001b[0m                                 ^\u001b[0m\n\u001b[0;31mIndentationError\u001b[0m\u001b[0;31m:\u001b[0m unindent does not match any outer indentation level\n"
     ]
    }
   ],
   "source": [
    "def count_characters(input_string):\n",
    " chars = 0\n",
    "digits = 0\n",
    "symbols = 0\n",
    "\n",
    "for char in input_string:\n",
    " if char.isalpha():\n",
    "    chars += 1\n",
    "    elif char.isdigit():\n",
    " digits += 1\n",
    "else:\n",
    "            symbols += 1\n",
    "\n",
    "return chars, digits, symbols\n",
    "\n",
    "# Given input string\n",
    "input_string = \"P@#yn26at^&i5ve\"\n",
    "\n",
    "# Count characters, digits, and symbols\n",
    "chars, digits, symbols = count_characters(input_string)\n",
    "\n",
    "# Display the result\n",
    "print(f\"Chars = {chars} Digits = {digits} Symbols = {symbols}\")"
   ]
  }
 ],
 "metadata": {
  "kernelspec": {
   "display_name": "Python 3",
   "language": "python",
   "name": "python3"
  },
  "language_info": {
   "codemirror_mode": {
    "name": "ipython",
    "version": 3
   },
   "file_extension": ".py",
   "mimetype": "text/x-python",
   "name": "python",
   "nbconvert_exporter": "python",
   "pygments_lexer": "ipython3",
   "version": "3.12.4"
  }
 },
 "nbformat": 4,
 "nbformat_minor": 2
}
