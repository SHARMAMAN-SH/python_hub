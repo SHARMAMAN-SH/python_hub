{
 "cells": [
  {
   "cell_type": "code",
   "execution_count": 3,
   "metadata": {},
   "outputs": [
    {
     "name": "stdout",
     "output_type": "stream",
     "text": [
      "The word 'INDIA' occurs 1 times in the file 'india.txt'.\n"
     ]
    }
   ],
   "source": [
    "\n",
    "def count_word_occurrences(file_name, word):\n",
    "    try:\n",
    "        with open(file_name, 'r') as file:\n",
    "            content = file.read()\n",
    "            # Count occurrences of the word in a case-insensitive manner\n",
    "            word_count = content.upper().split().count(word.upper())\n",
    "        return word_count\n",
    "    except FileNotFoundError:\n",
    "        return \"The file was not found.\"\n",
    "\n",
    "# Define the file name and the word to be counted\n",
    "file_name = 'india.txt'\n",
    "word = 'INDIA'\n",
    "\n",
    "# Count occurrences of the word\n",
    "word_count = count_word_occurrences(file_name, word)\n",
    "\n",
    "# Display the result\n",
    "print(f\"The word '{word}' occurs {word_count} times in the file '{file_name}'.\")"
   ]
  },
  {
   "cell_type": "code",
   "execution_count": 12,
   "metadata": {},
   "outputs": [
    {
     "name": "stdout",
     "output_type": "stream",
     "text": [
      "The number of lines starting with 'T' is: 1\n",
      "Lines starting with 'T':\n",
      "There is a man\n",
      "The file was not found.\n"
     ]
    }
   ],
   "source": [
    "with open('story.txt', 'r') as file:\n",
    "        lines = file.readlines()\n",
    "        t_lines = [line.strip() for line in lines if line.startswith('T')]\n",
    "        t_lines_count = len(t_lines)\n",
    "    \n",
    "    # Display the result\n",
    "print(f\"The number of lines starting with 'T' is: {t_lines_count}\")\n",
    "print(\"Lines starting with 'T':\")\n",
    "for line in t_lines:\n",
    "        print(line)\n",
    "        print(\"The file was not found.\")"
   ]
  },
  {
   "cell_type": "code",
   "execution_count": 25,
   "metadata": {},
   "outputs": [
    {
     "name": "stdout",
     "output_type": "stream",
     "text": [
      "The number of vowels in the file is: 2\n",
      "The number of consonants in the file is: 3\n"
     ]
    }
   ],
   "source": [
    "\n",
    "with open('myfile.txt', 'r') as file:\n",
    "        # Read the entire content of the file\n",
    "        content = file.read()\n",
    "        vowels =[\"a\",\"e\",\"i\",\"o\",\"u\"]\n",
    "        count=0 #vowel count    \n",
    "        con_count=0 #constant count\n",
    "        # Iterate through each character in the content\n",
    "        for char in content:\n",
    "            if char.isalpha():  # Check if the character is a letter\n",
    "                if char in vowels:\n",
    "                    count += 1\n",
    "                else:\n",
    "                  con_count += 1\n",
    "\n",
    "    # Display the result\n",
    "        print(f\"The number of vowels in the file is: {count}\")\n",
    "        print(f\"The number of consonants in the file is: {con_count}\")\n"
   ]
  },
  {
   "cell_type": "code",
   "execution_count": 28,
   "metadata": {},
   "outputs": [
    {
     "name": "stdout",
     "output_type": "stream",
     "text": [
      "The number of words starting with 'i' is: 2\n",
      "Words starting with 'i':\n",
      "i\n",
      "insaan\n"
     ]
    }
   ],
   "source": [
    "\n",
    "with open('word.txt', 'r') as file:\n",
    "        # Read the entire content of the file\n",
    "        content = file.read()\n",
    "        \n",
    "        # Split the content into words\n",
    "        words = content.split()\n",
    "        \n",
    "        # Find words starting with 'i' or 'I'\n",
    "        i_words = [word for word in words if word.lower().startswith('i')]\n",
    "        i_words_count = len(i_words)\n",
    "    \n",
    "    # Display the result\n",
    "print(f\"The number of words starting with 'i' is: {i_words_count}\")\n",
    "print(\"Words starting with 'i':\")\n",
    "for word in i_words:\n",
    "        print(word)\n"
   ]
  },
  {
   "cell_type": "code",
   "execution_count": 31,
   "metadata": {},
   "outputs": [
    {
     "name": "stdout",
     "output_type": "stream",
     "text": [
      "i am having a very big fight\n"
     ]
    }
   ],
   "source": [
    "\n",
    "with open('notes.txt', 'r') as file:\n",
    "        # Read all lines from the file\n",
    "        lines = file.readlines()\n",
    "        \n",
    "        # Iterate through each line\n",
    "        for line in lines:\n",
    "            # Split the line into words\n",
    "            words = line.split()\n",
    "            \n",
    "            # Check if the number of words is greater than five\n",
    "            if len(words) > 5:\n",
    "                print(line.strip())  # Display the line without extra newline\n"
   ]
  },
  {
   "cell_type": "code",
   "execution_count": null,
   "metadata": {},
   "outputs": [],
   "source": []
  }
 ],
 "metadata": {
  "kernelspec": {
   "display_name": "Python 3",
   "language": "python",
   "name": "python3"
  },
  "language_info": {
   "codemirror_mode": {
    "name": "ipython",
    "version": 3
   },
   "file_extension": ".py",
   "mimetype": "text/x-python",
   "name": "python",
   "nbconvert_exporter": "python",
   "pygments_lexer": "ipython3",
   "version": "3.12.4"
  }
 },
 "nbformat": 4,
 "nbformat_minor": 2
}
